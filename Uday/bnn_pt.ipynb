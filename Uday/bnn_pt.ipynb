{
  "nbformat": 4,
  "nbformat_minor": 0,
  "metadata": {
    "colab": {
      "provenance": [],
      "gpuType": "T4",
      "authorship_tag": "ABX9TyOH2tbgFCxk8vJvN7PjcJRJ",
      "include_colab_link": true
    },
    "kernelspec": {
      "name": "python3",
      "display_name": "Python 3"
    },
    "language_info": {
      "name": "python"
    },
    "accelerator": "GPU"
  },
  "cells": [
    {
      "cell_type": "markdown",
      "metadata": {
        "id": "view-in-github",
        "colab_type": "text"
      },
      "source": [
        "<a href=\"https://colab.research.google.com/github/AWorldOfChaos/SoC-2024-Robust-ML/blob/main/Uday/bnn_pt.ipynb\" target=\"_parent\"><img src=\"https://colab.research.google.com/assets/colab-badge.svg\" alt=\"Open In Colab\"/></a>"
      ]
    },
    {
      "cell_type": "code",
      "execution_count": null,
      "metadata": {
        "colab": {
          "base_uri": "https://localhost:8080/"
        },
        "id": "AJbTDz2GtkdC",
        "outputId": "22f4046b-6f04-408f-a9fa-6ceeb1eb6fe1"
      },
      "outputs": [
        {
          "output_type": "stream",
          "name": "stdout",
          "text": [
            "Downloading http://yann.lecun.com/exdb/mnist/train-images-idx3-ubyte.gz\n",
            "Failed to download (trying next):\n",
            "HTTP Error 403: Forbidden\n",
            "\n",
            "Downloading https://ossci-datasets.s3.amazonaws.com/mnist/train-images-idx3-ubyte.gz\n",
            "Downloading https://ossci-datasets.s3.amazonaws.com/mnist/train-images-idx3-ubyte.gz to ./data/MNIST/raw/train-images-idx3-ubyte.gz\n"
          ]
        },
        {
          "output_type": "stream",
          "name": "stderr",
          "text": [
            "100%|██████████| 9912422/9912422 [00:00<00:00, 146289813.35it/s]\n"
          ]
        },
        {
          "output_type": "stream",
          "name": "stdout",
          "text": [
            "Extracting ./data/MNIST/raw/train-images-idx3-ubyte.gz to ./data/MNIST/raw\n",
            "\n",
            "Downloading http://yann.lecun.com/exdb/mnist/train-labels-idx1-ubyte.gz\n",
            "Failed to download (trying next):\n",
            "HTTP Error 403: Forbidden\n",
            "\n",
            "Downloading https://ossci-datasets.s3.amazonaws.com/mnist/train-labels-idx1-ubyte.gz\n",
            "Downloading https://ossci-datasets.s3.amazonaws.com/mnist/train-labels-idx1-ubyte.gz to ./data/MNIST/raw/train-labels-idx1-ubyte.gz\n"
          ]
        },
        {
          "output_type": "stream",
          "name": "stderr",
          "text": [
            "100%|██████████| 28881/28881 [00:00<00:00, 8164433.09it/s]"
          ]
        },
        {
          "output_type": "stream",
          "name": "stdout",
          "text": [
            "Extracting ./data/MNIST/raw/train-labels-idx1-ubyte.gz to ./data/MNIST/raw\n",
            "\n",
            "Downloading http://yann.lecun.com/exdb/mnist/t10k-images-idx3-ubyte.gz\n",
            "Failed to download (trying next):\n",
            "HTTP Error 403: Forbidden\n",
            "\n",
            "Downloading https://ossci-datasets.s3.amazonaws.com/mnist/t10k-images-idx3-ubyte.gz\n",
            "Downloading https://ossci-datasets.s3.amazonaws.com/mnist/t10k-images-idx3-ubyte.gz to ./data/MNIST/raw/t10k-images-idx3-ubyte.gz\n"
          ]
        },
        {
          "output_type": "stream",
          "name": "stderr",
          "text": [
            "\n",
            "100%|██████████| 1648877/1648877 [00:00<00:00, 49604017.99it/s]\n"
          ]
        },
        {
          "output_type": "stream",
          "name": "stdout",
          "text": [
            "Extracting ./data/MNIST/raw/t10k-images-idx3-ubyte.gz to ./data/MNIST/raw\n",
            "\n",
            "Downloading http://yann.lecun.com/exdb/mnist/t10k-labels-idx1-ubyte.gz\n",
            "Failed to download (trying next):\n",
            "HTTP Error 403: Forbidden\n",
            "\n",
            "Downloading https://ossci-datasets.s3.amazonaws.com/mnist/t10k-labels-idx1-ubyte.gz\n",
            "Downloading https://ossci-datasets.s3.amazonaws.com/mnist/t10k-labels-idx1-ubyte.gz to ./data/MNIST/raw/t10k-labels-idx1-ubyte.gz\n"
          ]
        },
        {
          "output_type": "stream",
          "name": "stderr",
          "text": [
            "100%|██████████| 4542/4542 [00:00<00:00, 2861728.82it/s]\n"
          ]
        },
        {
          "output_type": "stream",
          "name": "stdout",
          "text": [
            "Extracting ./data/MNIST/raw/t10k-labels-idx1-ubyte.gz to ./data/MNIST/raw\n",
            "\n",
            "Epoch [1/100], Train Loss: 1.6908, Train Accuracy: 77.05%, Val Loss: 1.6153, Val Accuracy: 84.63%\n",
            "Epoch [2/100], Train Loss: 1.6093, Train Accuracy: 85.20%, Val Loss: 1.5875, Val Accuracy: 87.33%\n",
            "Epoch [3/100], Train Loss: 1.5951, Train Accuracy: 86.61%, Val Loss: 1.5835, Val Accuracy: 87.68%\n",
            "Epoch [4/100], Train Loss: 1.5871, Train Accuracy: 87.40%, Val Loss: 1.5756, Val Accuracy: 88.50%\n",
            "Epoch [5/100], Train Loss: 1.5810, Train Accuracy: 88.00%, Val Loss: 1.5672, Val Accuracy: 89.50%\n",
            "Epoch [6/100], Train Loss: 1.5773, Train Accuracy: 88.31%, Val Loss: 1.5658, Val Accuracy: 89.63%\n",
            "Epoch [7/100], Train Loss: 1.5717, Train Accuracy: 88.98%, Val Loss: 1.5594, Val Accuracy: 90.08%\n",
            "Epoch [8/100], Train Loss: 1.5690, Train Accuracy: 89.22%, Val Loss: 1.5676, Val Accuracy: 89.35%\n",
            "Epoch [9/100], Train Loss: 1.5664, Train Accuracy: 89.48%, Val Loss: 1.5574, Val Accuracy: 90.23%\n",
            "Epoch [10/100], Train Loss: 1.5643, Train Accuracy: 89.70%, Val Loss: 1.5547, Val Accuracy: 90.80%\n",
            "Epoch [11/100], Train Loss: 1.5644, Train Accuracy: 89.69%, Val Loss: 1.5531, Val Accuracy: 90.83%\n",
            "Epoch [12/100], Train Loss: 1.5650, Train Accuracy: 89.60%, Val Loss: 1.5607, Val Accuracy: 89.95%\n",
            "Epoch [13/100], Train Loss: 1.5615, Train Accuracy: 89.94%, Val Loss: 1.5514, Val Accuracy: 91.10%\n",
            "Epoch [14/100], Train Loss: 1.5618, Train Accuracy: 89.95%, Val Loss: 1.5608, Val Accuracy: 90.10%\n",
            "Epoch [15/100], Train Loss: 1.5598, Train Accuracy: 90.11%, Val Loss: 1.5552, Val Accuracy: 90.50%\n",
            "Epoch [16/100], Train Loss: 1.5578, Train Accuracy: 90.35%, Val Loss: 1.5587, Val Accuracy: 90.37%\n",
            "Epoch [17/100], Train Loss: 1.5571, Train Accuracy: 90.43%, Val Loss: 1.5514, Val Accuracy: 91.00%\n",
            "Epoch [18/100], Train Loss: 1.5569, Train Accuracy: 90.43%, Val Loss: 1.5609, Val Accuracy: 90.05%\n",
            "Epoch [19/100], Train Loss: 1.5559, Train Accuracy: 90.49%, Val Loss: 1.5509, Val Accuracy: 91.00%\n",
            "Epoch [20/100], Train Loss: 1.5547, Train Accuracy: 90.70%, Val Loss: 1.5513, Val Accuracy: 91.00%\n",
            "Epoch [21/100], Train Loss: 1.5546, Train Accuracy: 90.66%, Val Loss: 1.5591, Val Accuracy: 90.07%\n",
            "Epoch [22/100], Train Loss: 1.5550, Train Accuracy: 90.60%, Val Loss: 1.5554, Val Accuracy: 90.67%\n",
            "Epoch [23/100], Train Loss: 1.5540, Train Accuracy: 90.75%, Val Loss: 1.5472, Val Accuracy: 91.35%\n",
            "Epoch [24/100], Train Loss: 1.5550, Train Accuracy: 90.61%, Val Loss: 1.5554, Val Accuracy: 90.45%\n",
            "Epoch [25/100], Train Loss: 1.5539, Train Accuracy: 90.75%, Val Loss: 1.5501, Val Accuracy: 91.05%\n",
            "Epoch [26/100], Train Loss: 1.5534, Train Accuracy: 90.79%, Val Loss: 1.5469, Val Accuracy: 91.48%\n",
            "Epoch [27/100], Train Loss: 1.5525, Train Accuracy: 90.90%, Val Loss: 1.5576, Val Accuracy: 90.25%\n",
            "Epoch [28/100], Train Loss: 1.5540, Train Accuracy: 90.70%, Val Loss: 1.5499, Val Accuracy: 91.30%\n",
            "Epoch [29/100], Train Loss: 1.5522, Train Accuracy: 90.89%, Val Loss: 1.5466, Val Accuracy: 91.43%\n",
            "Epoch [30/100], Train Loss: 1.5505, Train Accuracy: 91.03%, Val Loss: 1.5465, Val Accuracy: 91.45%\n",
            "Epoch [31/100], Train Loss: 1.5505, Train Accuracy: 91.10%, Val Loss: 1.5533, Val Accuracy: 90.72%\n",
            "Epoch [32/100], Train Loss: 1.5513, Train Accuracy: 90.99%, Val Loss: 1.5532, Val Accuracy: 90.80%\n",
            "Epoch [33/100], Train Loss: 1.5522, Train Accuracy: 90.89%, Val Loss: 1.5544, Val Accuracy: 90.57%\n",
            "Epoch [34/100], Train Loss: 1.5500, Train Accuracy: 91.11%, Val Loss: 1.5495, Val Accuracy: 91.08%\n",
            "Epoch [35/100], Train Loss: 1.5493, Train Accuracy: 91.17%, Val Loss: 1.5503, Val Accuracy: 91.12%\n",
            "Epoch [36/100], Train Loss: 1.5490, Train Accuracy: 91.21%, Val Loss: 1.5563, Val Accuracy: 90.48%\n",
            "Early stopping\n",
            "Test Loss: 1.5476, Test Accuracy: 91.37%\n"
          ]
        }
      ],
      "source": [
        "import torch\n",
        "import torch.nn as nn\n",
        "import torch.optim as optim\n",
        "import torchvision.transforms as transforms\n",
        "from torchvision.datasets import MNIST\n",
        "from torch.utils.data import DataLoader, random_split, TensorDataset\n",
        "from sklearn.model_selection import train_test_split\n",
        "import numpy as np\n",
        "\n",
        "# Define custom binarization function\n",
        "class BinarizeFunction(torch.autograd.Function):\n",
        "    @staticmethod\n",
        "    def forward(ctx, input):\n",
        "        return torch.sign(input)\n",
        "\n",
        "    @staticmethod\n",
        "    def backward(ctx, grad_output):\n",
        "        return grad_output\n",
        "\n",
        "binarize = BinarizeFunction.apply\n",
        "\n",
        "# Define Binarized Linear layer\n",
        "class BinarizedLinear(nn.Module):\n",
        "    def __init__(self, in_features, out_features, bias=True):\n",
        "        super(BinarizedLinear, self).__init__()\n",
        "        self.in_features = in_features\n",
        "        self.out_features = out_features\n",
        "        self.weight = nn.Parameter(torch.Tensor(out_features, in_features))\n",
        "        if bias:\n",
        "            self.bias = nn.Parameter(torch.Tensor(out_features))\n",
        "        else:\n",
        "            self.register_parameter('bias', None)\n",
        "        self.reset_parameters()\n",
        "\n",
        "    def reset_parameters(self):\n",
        "        nn.init.normal_(self.weight, 0, 0.1)\n",
        "        if self.bias is not None:\n",
        "            nn.init.constant_(self.bias, 0)\n",
        "\n",
        "    def forward(self, input):\n",
        "        binary_weight = binarize(self.weight)\n",
        "        output = nn.functional.linear(input, binary_weight, self.bias)\n",
        "        return output\n",
        "\n",
        "# Define BNN model in PyTorch\n",
        "class BNNModel(nn.Module):\n",
        "    def __init__(self):\n",
        "        super(BNNModel, self).__init__()\n",
        "        self.flatten = nn.Flatten()\n",
        "        self.dense1 = BinarizedLinear(28*28, 512)\n",
        "        self.bn1 = nn.BatchNorm1d(512)\n",
        "        self.dense2 = BinarizedLinear(512, 256)\n",
        "        self.bn2 = nn.BatchNorm1d(256)\n",
        "        self.dense3 = BinarizedLinear(256, 128)\n",
        "        self.bn3 = nn.BatchNorm1d(128)\n",
        "        self.dense4 = BinarizedLinear(128, 64)\n",
        "        self.bn4 = nn.BatchNorm1d(64)\n",
        "        self.dense5 = BinarizedLinear(64, 32)\n",
        "        self.bn5 = nn.BatchNorm1d(32)\n",
        "        self.dense6 = BinarizedLinear(32, 10)\n",
        "\n",
        "    def forward(self, x):\n",
        "        x = self.flatten(x)\n",
        "        x = self.bn1(self.dense1(x))\n",
        "        x = binarize(x)\n",
        "        x = self.bn2(self.dense2(x))\n",
        "        x = binarize(x)\n",
        "        x = self.bn3(self.dense3(x))\n",
        "        x = binarize(x)\n",
        "        x = self.bn4(self.dense4(x))\n",
        "        x = binarize(x)\n",
        "        x = self.bn5(self.dense5(x))\n",
        "        x = binarize(x)\n",
        "        x = self.dense6(x)\n",
        "        return nn.functional.softmax(x, dim=1)\n",
        "\n",
        "# Load MNIST dataset\n",
        "transform = transforms.Compose([\n",
        "    transforms.ToTensor(),\n",
        "    transforms.Normalize((0.5,), (0.5,))\n",
        "])\n",
        "\n",
        "train_dataset = MNIST(root='./data', train=True, transform=transform, download=True)\n",
        "test_dataset = MNIST(root='./data', train=False, transform=transform, download=True)\n",
        "\n",
        "# Split train dataset into train and validation\n",
        "train_size = int(0.9 * len(train_dataset))\n",
        "val_size = len(train_dataset) - train_size\n",
        "train_dataset, val_dataset = random_split(train_dataset, [train_size, val_size])\n",
        "\n",
        "train_loader = DataLoader(train_dataset, batch_size=64, shuffle=True)\n",
        "val_loader = DataLoader(val_dataset, batch_size=64, shuffle=False)\n",
        "test_loader = DataLoader(test_dataset, batch_size=64, shuffle=False)\n",
        "\n",
        "# Instantiate the model, loss function, and optimizer\n",
        "model = BNNModel()\n",
        "criterion = nn.CrossEntropyLoss()\n",
        "optimizer = optim.Adam(model.parameters(), lr=0.001)\n",
        "\n",
        "# Early stopping class\n",
        "class EarlyStopping:\n",
        "    def __init__(self, patience=6, delta=0):\n",
        "        self.patience = patience\n",
        "        self.delta = delta\n",
        "        self.counter = 0\n",
        "        self.best_loss = None\n",
        "        self.early_stop = False\n",
        "        self.best_state_dict = None\n",
        "\n",
        "    def __call__(self, val_loss, model):\n",
        "        if self.best_loss is None:\n",
        "            self.best_loss = val_loss\n",
        "            self.best_state_dict = model.state_dict()\n",
        "        elif val_loss > self.best_loss + self.delta:\n",
        "            self.counter += 1\n",
        "            if self.counter >= self.patience:\n",
        "                self.early_stop = True\n",
        "                model.load_state_dict(self.best_state_dict)\n",
        "        else:\n",
        "            self.best_loss = val_loss\n",
        "            self.best_state_dict = model.state_dict()\n",
        "            self.counter = 0\n",
        "\n",
        "# Train the model with early stopping\n",
        "def train(model, train_loader, val_loader, optimizer, criterion, epochs=100):\n",
        "    early_stopping = EarlyStopping(patience=6)\n",
        "    for epoch in range(epochs):\n",
        "        model.train()\n",
        "        running_loss = 0.0\n",
        "        correct = 0\n",
        "        total = 0\n",
        "        for inputs, labels in train_loader:\n",
        "            optimizer.zero_grad()\n",
        "            outputs = model(inputs)\n",
        "            loss = criterion(outputs, labels)\n",
        "            loss.backward()\n",
        "            optimizer.step()\n",
        "\n",
        "            running_loss += loss.item()\n",
        "            _, predicted = torch.max(outputs.data, 1)\n",
        "            total += labels.size(0)\n",
        "            correct += (predicted == labels).sum().item()\n",
        "\n",
        "        train_loss = running_loss / len(train_loader)\n",
        "        train_acc = correct / total * 100\n",
        "\n",
        "        model.eval()\n",
        "        val_loss = 0.0\n",
        "        val_correct = 0\n",
        "        val_total = 0\n",
        "        with torch.no_grad():\n",
        "            for inputs, labels in val_loader:\n",
        "                outputs = model(inputs)\n",
        "                loss = criterion(outputs, labels)\n",
        "                val_loss += loss.item()\n",
        "                _, predicted = torch.max(outputs.data, 1)\n",
        "                val_total += labels.size(0)\n",
        "                val_correct += (predicted == labels).sum().item()\n",
        "\n",
        "        val_loss /= len(val_loader)\n",
        "        val_acc = val_correct / val_total * 100\n",
        "\n",
        "        print(f\"Epoch [{epoch + 1}/{epochs}], Train Loss: {train_loss:.4f}, Train Accuracy: {train_acc:.2f}%, Val Loss: {val_loss:.4f}, Val Accuracy: {val_acc:.2f}%\")\n",
        "\n",
        "        early_stopping(val_loss, model)\n",
        "        if early_stopping.early_stop:\n",
        "            print(\"Early stopping\")\n",
        "            break\n",
        "\n",
        "# Train the model\n",
        "train(model, train_loader, val_loader, optimizer, criterion, epochs=100)\n",
        "\n",
        "# Evaluate the model\n",
        "model.eval()\n",
        "test_loss = 0.0\n",
        "correct = 0\n",
        "total = 0\n",
        "with torch.no_grad():\n",
        "    for inputs, labels in test_loader:\n",
        "        outputs = model(inputs)\n",
        "        loss = criterion(outputs, labels)\n",
        "        test_loss += loss.item()\n",
        "        _, predicted = torch.max(outputs.data, 1)\n",
        "        total += labels.size(0)\n",
        "        correct += (predicted == labels).sum().item()\n",
        "\n",
        "test_loss /= len(test_loader)\n",
        "test_acc = correct / total * 100\n",
        "print(f'Test Loss: {test_loss:.4f}, Test Accuracy: {test_acc:.2f}%')\n",
        "\n",
        "# Save the PyTorch model\n",
        "torch.save(model.state_dict(), 'bnn_model.pt')\n"
      ]
    },
    {
      "cell_type": "code",
      "source": [
        "# Save the PyTorch model\n",
        "torch.save(model.state_dict(), 'bnn_model.pt')"
      ],
      "metadata": {
        "id": "6v0k9E1By7g9"
      },
      "execution_count": null,
      "outputs": []
    },
    {
      "cell_type": "code",
      "source": [
        "from google.colab import files\n",
        "\n",
        "\n",
        "# Download the saved model to local machine\n",
        "files.download('bnn_model.pt')\n"
      ],
      "metadata": {
        "colab": {
          "base_uri": "https://localhost:8080/",
          "height": 17
        },
        "id": "vR4C6MUxzN_4",
        "outputId": "e24375a3-ccf6-4a3b-ea93-8c7dd7a2a7da"
      },
      "execution_count": null,
      "outputs": [
        {
          "output_type": "display_data",
          "data": {
            "text/plain": [
              "<IPython.core.display.Javascript object>"
            ],
            "application/javascript": [
              "\n",
              "    async function download(id, filename, size) {\n",
              "      if (!google.colab.kernel.accessAllowed) {\n",
              "        return;\n",
              "      }\n",
              "      const div = document.createElement('div');\n",
              "      const label = document.createElement('label');\n",
              "      label.textContent = `Downloading \"${filename}\": `;\n",
              "      div.appendChild(label);\n",
              "      const progress = document.createElement('progress');\n",
              "      progress.max = size;\n",
              "      div.appendChild(progress);\n",
              "      document.body.appendChild(div);\n",
              "\n",
              "      const buffers = [];\n",
              "      let downloaded = 0;\n",
              "\n",
              "      const channel = await google.colab.kernel.comms.open(id);\n",
              "      // Send a message to notify the kernel that we're ready.\n",
              "      channel.send({})\n",
              "\n",
              "      for await (const message of channel.messages) {\n",
              "        // Send a message to notify the kernel that we're ready.\n",
              "        channel.send({})\n",
              "        if (message.buffers) {\n",
              "          for (const buffer of message.buffers) {\n",
              "            buffers.push(buffer);\n",
              "            downloaded += buffer.byteLength;\n",
              "            progress.value = downloaded;\n",
              "          }\n",
              "        }\n",
              "      }\n",
              "      const blob = new Blob(buffers, {type: 'application/binary'});\n",
              "      const a = document.createElement('a');\n",
              "      a.href = window.URL.createObjectURL(blob);\n",
              "      a.download = filename;\n",
              "      div.appendChild(a);\n",
              "      a.click();\n",
              "      div.remove();\n",
              "    }\n",
              "  "
            ]
          },
          "metadata": {}
        },
        {
          "output_type": "display_data",
          "data": {
            "text/plain": [
              "<IPython.core.display.Javascript object>"
            ],
            "application/javascript": [
              "download(\"download_fded46a1-5eb0-4808-8bf3-9c2e4e16451f\", \"bnn_model.pt\", 2334265)"
            ]
          },
          "metadata": {}
        }
      ]
    },
    {
      "cell_type": "code",
      "source": [
        "\n",
        "from torchsummary import summary\n",
        "\n",
        "# Print the model summary\n",
        "summary(model, input_size=(1, 28, 28))\n"
      ],
      "metadata": {
        "colab": {
          "base_uri": "https://localhost:8080/"
        },
        "id": "H_PCwvTU0bc2",
        "outputId": "c6f951d8-5bf0-47b6-dcbb-943582a1e685"
      },
      "execution_count": null,
      "outputs": [
        {
          "output_type": "stream",
          "name": "stdout",
          "text": [
            "----------------------------------------------------------------\n",
            "        Layer (type)               Output Shape         Param #\n",
            "================================================================\n",
            "           Flatten-1                  [-1, 784]               0\n",
            "   BinarizedLinear-2                  [-1, 512]         401,920\n",
            "       BatchNorm1d-3                  [-1, 512]           1,024\n",
            "   BinarizedLinear-4                  [-1, 256]         131,328\n",
            "       BatchNorm1d-5                  [-1, 256]             512\n",
            "   BinarizedLinear-6                  [-1, 128]          32,896\n",
            "       BatchNorm1d-7                  [-1, 128]             256\n",
            "   BinarizedLinear-8                   [-1, 64]           8,256\n",
            "       BatchNorm1d-9                   [-1, 64]             128\n",
            "  BinarizedLinear-10                   [-1, 32]           2,080\n",
            "      BatchNorm1d-11                   [-1, 32]              64\n",
            "  BinarizedLinear-12                   [-1, 10]             330\n",
            "================================================================\n",
            "Total params: 578,794\n",
            "Trainable params: 578,794\n",
            "Non-trainable params: 0\n",
            "----------------------------------------------------------------\n",
            "Input size (MB): 0.00\n",
            "Forward/backward pass size (MB): 0.02\n",
            "Params size (MB): 2.21\n",
            "Estimated Total Size (MB): 2.23\n",
            "----------------------------------------------------------------\n"
          ]
        }
      ]
    }
  ]
}